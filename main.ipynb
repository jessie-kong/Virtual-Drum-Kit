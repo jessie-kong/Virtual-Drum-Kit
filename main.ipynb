{
 "cells": [
  {
   "cell_type": "markdown",
   "id": "0f2d578b-3a2e-4287-b9fc-2256a98850e9",
   "metadata": {},
   "source": [
    "##### Trevor Deppermann and Jessie Kong\n",
    "CSE 5524 - 12:45 PM\\"
   ]
  },
  {
   "cell_type": "markdown",
   "id": "1816a2ce-3ddd-4acb-ba03-af0262deaa77",
   "metadata": {},
   "source": [
    "### CSE 5524 – Virtual Drum Kit Project"
   ]
  },
  {
   "cell_type": "code",
   "execution_count": 1,
   "id": "b73e24f8-018c-4591-9926-32b69e4c67af",
   "metadata": {},
   "outputs": [],
   "source": [
    "import numpy as np\n",
    "import matplotlib.pyplot as plt\n",
    "from skimage import io"
   ]
  },
  {
   "cell_type": "code",
   "execution_count": 2,
   "id": "afecddf6-7ad0-4f6f-b4f9-9b7627a0133a",
   "metadata": {},
   "outputs": [],
   "source": [
    "# Load in images\n"
   ]
  },
  {
   "cell_type": "code",
   "execution_count": null,
   "id": "09f6a438-cdd7-4d7b-9c64-2a93a48a8fc0",
   "metadata": {},
   "outputs": [],
   "source": []
  }
 ],
 "metadata": {
  "kernelspec": {
   "display_name": "Python 3 (ipykernel)",
   "language": "python",
   "name": "python3"
  },
  "language_info": {
   "codemirror_mode": {
    "name": "ipython",
    "version": 3
   },
   "file_extension": ".py",
   "mimetype": "text/x-python",
   "name": "python",
   "nbconvert_exporter": "python",
   "pygments_lexer": "ipython3",
   "version": "3.10.7"
  }
 },
 "nbformat": 4,
 "nbformat_minor": 5
}
